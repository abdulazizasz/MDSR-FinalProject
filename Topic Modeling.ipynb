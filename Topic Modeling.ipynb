{
 "cells": [
  {
   "cell_type": "code",
   "execution_count": 30,
   "metadata": {},
   "outputs": [],
   "source": [
    "# This code is adapted from the following resources  \n",
    "\n",
    "# https://towardsdatascience.com/solving-a-simple-classification-problem-with-python-fruits-lovers-edition-d20ab6b071d2\n",
    "# https://www.analyticsvidhya.com/blog/2018/04/a-comprehensive-guide-to-understand-and-implement-text-classification-in-python/\n",
    "# https://towardsdatascience.com/topic-modeling-and-latent-dirichlet-allocation-in-python-9bf156893c24\n",
    "# https://www.datacamp.com/community/tutorials/discovering-hidden-topics-python\n",
    "# https://www.kaggle.com/rcushen/topic-modelling-with-lsa-and-lda\n",
    "# https://www.analyticsvidhya.com/blog/2018/10/stepwise-guide-topic-modeling-latent-semantic-analysis/\n",
    "# https://www.analyticsvidhya.com/blog/2018/10/stepwise-guide-topic-modeling-latent-semantic-analysis/\n"
   ]
  },
  {
   "cell_type": "markdown",
   "metadata": {},
   "source": [
    "## LSA  WITH Language Dataset with readme content ##"
   ]
  },
  {
   "cell_type": "code",
   "execution_count": 5,
   "metadata": {},
   "outputs": [
    {
     "name": "stderr",
     "output_type": "stream",
     "text": [
      "[nltk_data] Downloading package wordnet to\n",
      "[nltk_data]     /Users/abdulaziz/nltk_data...\n",
      "[nltk_data]   Package wordnet is already up-to-date!\n"
     ]
    }
   ],
   "source": [
    "import numpy as np\n",
    "import pandas as pd\n",
    "from IPython.display import display\n",
    "from tqdm import tqdm\n",
    "from collections import Counter \n",
    "import ast\n",
    "import gensim\n",
    "from gensim.utils import simple_preprocess\n",
    "from gensim.parsing.preprocessing import STOPWORDS\n",
    "from nltk.stem import WordNetLemmatizer, SnowballStemmer\n",
    "from nltk.stem.porter import *\n",
    "import numpy as np\n",
    "np.random.seed(1234)\n",
    "import nltk\n",
    "nltk.download('wordnet')\n",
    "stemmer = SnowballStemmer(\"english\")\n",
    "\n",
    "\n",
    "\n",
    "import matplotlib.pyplot as plt \n",
    "import matplotlib.mlab as mlab \n",
    "import seaborn as sb\n",
    "%matplotlib inline"
   ]
  },
  {
   "cell_type": "code",
   "execution_count": 6,
   "metadata": {},
   "outputs": [],
   "source": [
    "data = pd.read_csv('./data/language_Dataset_readme_content.csv')"
   ]
  },
  {
   "cell_type": "code",
   "execution_count": 7,
   "metadata": {},
   "outputs": [
    {
     "name": "stderr",
     "output_type": "stream",
     "text": [
      "/Library/Frameworks/Python.framework/Versions/3.6/lib/python3.6/site-packages/ipykernel_launcher.py:2: SettingWithCopyWarning: \n",
      "A value is trying to be set on a copy of a slice from a DataFrame.\n",
      "Try using .loc[row_indexer,col_indexer] = value instead\n",
      "\n",
      "See the caveats in the documentation: http://pandas.pydata.org/pandas-docs/stable/indexing.html#indexing-view-versus-copy\n",
      "  \n"
     ]
    }
   ],
   "source": [
    "data_text = data[['collection']]\n",
    "data_text['index'] = data_text.index"
   ]
  },
  {
   "cell_type": "code",
   "execution_count": 8,
   "metadata": {},
   "outputs": [
    {
     "data": {
      "text/html": [
       "<div>\n",
       "<style scoped>\n",
       "    .dataframe tbody tr th:only-of-type {\n",
       "        vertical-align: middle;\n",
       "    }\n",
       "\n",
       "    .dataframe tbody tr th {\n",
       "        vertical-align: top;\n",
       "    }\n",
       "\n",
       "    .dataframe thead th {\n",
       "        text-align: right;\n",
       "    }\n",
       "</style>\n",
       "<table border=\"1\" class=\"dataframe\">\n",
       "  <thead>\n",
       "    <tr style=\"text-align: right;\">\n",
       "      <th></th>\n",
       "      <th>collection</th>\n",
       "      <th>index</th>\n",
       "    </tr>\n",
       "  </thead>\n",
       "  <tbody>\n",
       "    <tr>\n",
       "      <th>0</th>\n",
       "      <td>The https://freeCodeCamp.com open source codeb...</td>\n",
       "      <td>0</td>\n",
       "    </tr>\n",
       "    <tr>\n",
       "      <th>1</th>\n",
       "      <td>The most popular HTML, CSS, and JavaScript fra...</td>\n",
       "      <td>1</td>\n",
       "    </tr>\n",
       "    <tr>\n",
       "      <th>2</th>\n",
       "      <td>Freely available programming books this page ...</td>\n",
       "      <td>2</td>\n",
       "    </tr>\n",
       "    <tr>\n",
       "      <th>3</th>\n",
       "      <td>A declarative, efficient, and flexible JavaScr...</td>\n",
       "      <td>3</td>\n",
       "    </tr>\n",
       "    <tr>\n",
       "      <th>4</th>\n",
       "      <td>Bring data to life with SVG, Canvas and HTML. ...</td>\n",
       "      <td>4</td>\n",
       "    </tr>\n",
       "    <tr>\n",
       "      <th>5</th>\n",
       "      <td>A book series on JavaScript. @YDKJS on twitter...</td>\n",
       "      <td>5</td>\n",
       "    </tr>\n",
       "    <tr>\n",
       "      <th>6</th>\n",
       "      <td>Computation using data flow graphs for scalabl...</td>\n",
       "      <td>6</td>\n",
       "    </tr>\n",
       "    <tr>\n",
       "      <th>7</th>\n",
       "      <td>Curated list of awesome lists div align cente...</td>\n",
       "      <td>7</td>\n",
       "    </tr>\n",
       "    <tr>\n",
       "      <th>8</th>\n",
       "      <td>A progressive, incrementally-adoptable JavaScr...</td>\n",
       "      <td>8</td>\n",
       "    </tr>\n",
       "    <tr>\n",
       "      <th>9</th>\n",
       "      <td>AngularJS - HTML enhanced for web apps! angula...</td>\n",
       "      <td>9</td>\n",
       "    </tr>\n",
       "  </tbody>\n",
       "</table>\n",
       "</div>"
      ],
      "text/plain": [
       "                                          collection  index\n",
       "0  The https://freeCodeCamp.com open source codeb...      0\n",
       "1  The most popular HTML, CSS, and JavaScript fra...      1\n",
       "2   Freely available programming books this page ...      2\n",
       "3  A declarative, efficient, and flexible JavaScr...      3\n",
       "4  Bring data to life with SVG, Canvas and HTML. ...      4\n",
       "5  A book series on JavaScript. @YDKJS on twitter...      5\n",
       "6  Computation using data flow graphs for scalabl...      6\n",
       "7   Curated list of awesome lists div align cente...      7\n",
       "8  A progressive, incrementally-adoptable JavaScr...      8\n",
       "9  AngularJS - HTML enhanced for web apps! angula...      9"
      ]
     },
     "execution_count": 8,
     "metadata": {},
     "output_type": "execute_result"
    }
   ],
   "source": [
    "data_text[:10]"
   ]
  },
  {
   "cell_type": "code",
   "execution_count": 9,
   "metadata": {},
   "outputs": [],
   "source": [
    "documents = data_text"
   ]
  },
  {
   "cell_type": "code",
   "execution_count": 10,
   "metadata": {},
   "outputs": [
    {
     "data": {
      "text/plain": [
       "980"
      ]
     },
     "execution_count": 10,
     "metadata": {},
     "output_type": "execute_result"
    }
   ],
   "source": [
    "len(documents)"
   ]
  },
  {
   "cell_type": "code",
   "execution_count": 11,
   "metadata": {},
   "outputs": [
    {
     "data": {
      "text/plain": [
       "0      The https://freeCodeCamp.com open source codeb...\n",
       "1      The most popular HTML, CSS, and JavaScript fra...\n",
       "2       Freely available programming books this page ...\n",
       "3      A declarative, efficient, and flexible JavaScr...\n",
       "4      Bring data to life with SVG, Canvas and HTML. ...\n",
       "5      A book series on JavaScript. @YDKJS on twitter...\n",
       "6      Computation using data flow graphs for scalabl...\n",
       "7       Curated list of awesome lists div align cente...\n",
       "8      A progressive, incrementally-adoptable JavaScr...\n",
       "9      AngularJS - HTML enhanced for web apps! angula...\n",
       "10     A delightful community-driven (with 1,000+ con...\n",
       "11     JavaScript Style Guide airbnb javascript style...\n",
       "12     A collection of useful .gitignore templates a ...\n",
       "13     The iconic font and CSS toolkit h img src alt ...\n",
       "14     A framework for building native apps with Reac...\n",
       "15     Build cross platform desktop apps with JavaScr...\n",
       "16       Linux kernel source tree nan linux nan torvalds\n",
       "17     jQuery JavaScript Library jquery new wave java...\n",
       "18     A complete computer science study plan to beco...\n",
       "19     Moby Project - a collaborative project for the...\n",
       "20      A cross-browser library of CSS animations. As...\n",
       "21     The Swift Programming Language img src alt swi...\n",
       "22     The hackable text editor atom build status lin...\n",
       "23     Meteor, the JavaScript App Platform a href src...\n",
       "24     A professional front-end template for building...\n",
       "25     Node.js JavaScript runtime  p align center a h...\n",
       "26     Moved to https://github.com/nodejs/node this r...\n",
       "27     Ruby on Rails welcome to rails what s rails ra...\n",
       "28     Semantic is a UI component framework based aro...\n",
       "29     A curated list of awesome Python frameworks, l...\n",
       "                             ...                        \n",
       "950    High performance and SEO friendly lazy loader ...\n",
       "951    jQuery plugin for lazy loading images lazy loa...\n",
       "952     a short introduction to node.js the art of no...\n",
       "953    An open source status page system for everyone...\n",
       "954    This project demonstrates how to access and te...\n",
       "955    Theano is a Python library that allows you to ...\n",
       "956    A window management application (replacement f...\n",
       "957    OBS - Free and open source software for live s...\n",
       "958     JavaScript is all like \"You images done yet o...\n",
       "959    A set of React components implementing Google'...\n",
       "960    Microsoft REST API Guidelines microsoft rest a...\n",
       "961     Search Interactive Mind Maps to learn anythin...\n",
       "962    Horizon is a realtime, open-source backend for...\n",
       "963    Pleasant Android application development offic...\n",
       "964    The ultimate API for iOS & OS X Auto Layout  i...\n",
       "965    A custom view component that mimics the new Ma...\n",
       "966    Standards for flexible, durable, and sustainab...\n",
       "967    Python Fire is a library for automatically gen...\n",
       "968    Mobile Shell build status mosh the mobile shel...\n",
       "969    after effects to html library lottie for web a...\n",
       "970    A shell script to set up a macOS laptop for we...\n",
       "971    An embedded key/value database for Go. bolt co...\n",
       "972    An easy-to-read, quick reference for JS best p...\n",
       "973    The open source JavaScript graphing library th...\n",
       "974     Companies that don't have a broken hiring pro...\n",
       "975    Custom fonts in Android the easy way... this v...\n",
       "976    HTTPie + prompt_toolkit = an interactive comma...\n",
       "977    TCP port scanner, spews SYN packets asynchrono...\n",
       "978    Mobile UI elements for Vue.js mint ui build st...\n",
       "979    The modern video player for macOS. p align cen...\n",
       "Name: collection, Length: 980, dtype: object"
      ]
     },
     "execution_count": 11,
     "metadata": {},
     "output_type": "execute_result"
    }
   ],
   "source": [
    "documents['collection']"
   ]
  },
  {
   "cell_type": "code",
   "execution_count": 12,
   "metadata": {},
   "outputs": [
    {
     "name": "stderr",
     "output_type": "stream",
     "text": [
      "/Library/Frameworks/Python.framework/Versions/3.6/lib/python3.6/site-packages/ipykernel_launcher.py:6: SettingWithCopyWarning: \n",
      "A value is trying to be set on a copy of a slice from a DataFrame.\n",
      "Try using .loc[row_indexer,col_indexer] = value instead\n",
      "\n",
      "See the caveats in the documentation: http://pandas.pydata.org/pandas-docs/stable/indexing.html#indexing-view-versus-copy\n",
      "  \n",
      "/Library/Frameworks/Python.framework/Versions/3.6/lib/python3.6/site-packages/ipykernel_launcher.py:9: SettingWithCopyWarning: \n",
      "A value is trying to be set on a copy of a slice from a DataFrame.\n",
      "Try using .loc[row_indexer,col_indexer] = value instead\n",
      "\n",
      "See the caveats in the documentation: http://pandas.pydata.org/pandas-docs/stable/indexing.html#indexing-view-versus-copy\n",
      "  if __name__ == '__main__':\n",
      "/Library/Frameworks/Python.framework/Versions/3.6/lib/python3.6/site-packages/ipykernel_launcher.py:12: SettingWithCopyWarning: \n",
      "A value is trying to be set on a copy of a slice from a DataFrame.\n",
      "Try using .loc[row_indexer,col_indexer] = value instead\n",
      "\n",
      "See the caveats in the documentation: http://pandas.pydata.org/pandas-docs/stable/indexing.html#indexing-view-versus-copy\n",
      "  if sys.path[0] == '':\n",
      "/Library/Frameworks/Python.framework/Versions/3.6/lib/python3.6/site-packages/ipykernel_launcher.py:14: SettingWithCopyWarning: \n",
      "A value is trying to be set on a copy of a slice from a DataFrame.\n",
      "Try using .loc[row_indexer,col_indexer] = value instead\n",
      "\n",
      "See the caveats in the documentation: http://pandas.pydata.org/pandas-docs/stable/indexing.html#indexing-view-versus-copy\n",
      "  \n"
     ]
    }
   ],
   "source": [
    "\n",
    "\n",
    "html_lists = ['html','head','body','href','DOCTYPE', 'head', 'title','']\n",
    "\n",
    "# removing everything except alphabets`\n",
    "documents['collection'] = documents['collection'].str.replace(\"[^a-zA-Z#]\", \" \")\n",
    "\n",
    "# removing short words\n",
    "documents['collection'] =  documents['collection'].apply(lambda x: ' '.join([w for w in x.split() if len(w)>3]))\n",
    "\n",
    "# make all text lowercase\n",
    "documents['collection'] =  documents['collection'].apply(lambda x: x.lower())\n",
    "\n",
    "documents['collection'] = documents['collection'].apply(lambda x:  ' '.join([word for word in x.split() if word not in (html_lists)]))\n",
    "\n"
   ]
  },
  {
   "cell_type": "code",
   "execution_count": 13,
   "metadata": {},
   "outputs": [
    {
     "data": {
      "text/plain": [
       "(980, 1000)"
      ]
     },
     "execution_count": 13,
     "metadata": {},
     "output_type": "execute_result"
    }
   ],
   "source": [
    "from sklearn.feature_extraction.text import TfidfVectorizer\n",
    "\n",
    "\n",
    "vectorizer = TfidfVectorizer(stop_words='english', \n",
    "                    max_features= 1000, # keep top 1000 terms \n",
    "                    max_df = 0.5, \n",
    "                    smooth_idf=True)\n",
    "\n",
    "\n",
    "X = vectorizer.fit_transform(documents['collection'])\n",
    "\n",
    "X.shape"
   ]
  },
  {
   "cell_type": "code",
   "execution_count": 15,
   "metadata": {},
   "outputs": [
    {
     "data": {
      "text/plain": [
       "10"
      ]
     },
     "execution_count": 15,
     "metadata": {},
     "output_type": "execute_result"
    }
   ],
   "source": [
    "from sklearn.decomposition import TruncatedSVD\n",
    "\n",
    "# SVD represent documents and terms in vectors \n",
    "svd_model = TruncatedSVD(n_components=10, algorithm='randomized', n_iter=100, random_state=122)\n",
    "\n",
    "svd_model.fit(X)\n",
    "\n",
    "len(svd_model.components_)"
   ]
  },
  {
   "cell_type": "code",
   "execution_count": 16,
   "metadata": {},
   "outputs": [
    {
     "name": "stdout",
     "output_type": "stream",
     "text": [
      "Topic 0: \n",
      "javascript android data library documentation framework server \n",
      "\n",
      "Topic 1: \n",
      "blank target react align center redux components \n",
      "\n",
      "Topic 2: \n",
      "android java distributed library framework dependency swift \n",
      "\n",
      "Topic 3: \n",
      "android function swift animation default return true \n",
      "\n",
      "Topic 4: \n",
      "react android redux javascript native component components \n",
      "\n",
      "Topic 5: \n",
      "swift objective xcode react carthage cocoapods framework \n",
      "\n",
      "Topic 6: \n",
      "python data learning machine framework deep neural \n",
      "\n",
      "Topic 7: \n",
      "react python bash command windows shell android \n",
      "\n",
      "Topic 8: \n",
      "framework python javascript node bash tests library \n",
      "\n",
      "Topic 9: \n",
      "http framework server client node json application \n",
      "\n"
     ]
    }
   ],
   "source": [
    "terms = vectorizer.get_feature_names()\n",
    "\n",
    "for i, comp in enumerate(svd_model.components_):\n",
    "    terms_comp = zip(terms, comp)\n",
    "    sorted_terms = sorted(terms_comp, key= lambda x:x[1], reverse=True)[:7]\n",
    "    print(\"Topic \"+str(i)+\": \")\n",
    "    for t in sorted_terms:\n",
    "        print(t[0], end=\" \")\n",
    "    print(\"\\n\")"
   ]
  },
  {
   "cell_type": "code",
   "execution_count": null,
   "metadata": {},
   "outputs": [],
   "source": []
  },
  {
   "cell_type": "markdown",
   "metadata": {},
   "source": [
    "## LDA  WITH Language Dataset with readme content ##"
   ]
  },
  {
   "cell_type": "code",
   "execution_count": 18,
   "metadata": {},
   "outputs": [],
   "source": [
    "data = pd.read_csv('./data/language_Dataset_readme_content.csv')"
   ]
  },
  {
   "cell_type": "code",
   "execution_count": 19,
   "metadata": {},
   "outputs": [
    {
     "data": {
      "text/html": [
       "<div>\n",
       "<style scoped>\n",
       "    .dataframe tbody tr th:only-of-type {\n",
       "        vertical-align: middle;\n",
       "    }\n",
       "\n",
       "    .dataframe tbody tr th {\n",
       "        vertical-align: top;\n",
       "    }\n",
       "\n",
       "    .dataframe thead th {\n",
       "        text-align: right;\n",
       "    }\n",
       "</style>\n",
       "<table border=\"1\" class=\"dataframe\">\n",
       "  <thead>\n",
       "    <tr style=\"text-align: right;\">\n",
       "      <th></th>\n",
       "      <th>Unnamed: 0</th>\n",
       "      <th>language</th>\n",
       "      <th>collection</th>\n",
       "    </tr>\n",
       "  </thead>\n",
       "  <tbody>\n",
       "    <tr>\n",
       "      <th>0</th>\n",
       "      <td>0</td>\n",
       "      <td>JavaScript</td>\n",
       "      <td>The https://freeCodeCamp.com open source codeb...</td>\n",
       "    </tr>\n",
       "    <tr>\n",
       "      <th>1</th>\n",
       "      <td>1</td>\n",
       "      <td>JavaScript</td>\n",
       "      <td>The most popular HTML, CSS, and JavaScript fra...</td>\n",
       "    </tr>\n",
       "    <tr>\n",
       "      <th>2</th>\n",
       "      <td>2</td>\n",
       "      <td>NaN</td>\n",
       "      <td>Freely available programming books this page ...</td>\n",
       "    </tr>\n",
       "    <tr>\n",
       "      <th>3</th>\n",
       "      <td>3</td>\n",
       "      <td>JavaScript</td>\n",
       "      <td>A declarative, efficient, and flexible JavaScr...</td>\n",
       "    </tr>\n",
       "    <tr>\n",
       "      <th>4</th>\n",
       "      <td>4</td>\n",
       "      <td>JavaScript</td>\n",
       "      <td>Bring data to life with SVG, Canvas and HTML. ...</td>\n",
       "    </tr>\n",
       "    <tr>\n",
       "      <th>5</th>\n",
       "      <td>5</td>\n",
       "      <td>JavaScript</td>\n",
       "      <td>A book series on JavaScript. @YDKJS on twitter...</td>\n",
       "    </tr>\n",
       "    <tr>\n",
       "      <th>6</th>\n",
       "      <td>6</td>\n",
       "      <td>C++</td>\n",
       "      <td>Computation using data flow graphs for scalabl...</td>\n",
       "    </tr>\n",
       "    <tr>\n",
       "      <th>7</th>\n",
       "      <td>7</td>\n",
       "      <td>NaN</td>\n",
       "      <td>Curated list of awesome lists div align cente...</td>\n",
       "    </tr>\n",
       "    <tr>\n",
       "      <th>8</th>\n",
       "      <td>8</td>\n",
       "      <td>JavaScript</td>\n",
       "      <td>A progressive, incrementally-adoptable JavaScr...</td>\n",
       "    </tr>\n",
       "    <tr>\n",
       "      <th>9</th>\n",
       "      <td>9</td>\n",
       "      <td>JavaScript</td>\n",
       "      <td>AngularJS - HTML enhanced for web apps! angula...</td>\n",
       "    </tr>\n",
       "  </tbody>\n",
       "</table>\n",
       "</div>"
      ],
      "text/plain": [
       "   Unnamed: 0    language                                         collection\n",
       "0           0  JavaScript  The https://freeCodeCamp.com open source codeb...\n",
       "1           1  JavaScript  The most popular HTML, CSS, and JavaScript fra...\n",
       "2           2         NaN   Freely available programming books this page ...\n",
       "3           3  JavaScript  A declarative, efficient, and flexible JavaScr...\n",
       "4           4  JavaScript  Bring data to life with SVG, Canvas and HTML. ...\n",
       "5           5  JavaScript  A book series on JavaScript. @YDKJS on twitter...\n",
       "6           6         C++  Computation using data flow graphs for scalabl...\n",
       "7           7         NaN   Curated list of awesome lists div align cente...\n",
       "8           8  JavaScript  A progressive, incrementally-adoptable JavaScr...\n",
       "9           9  JavaScript  AngularJS - HTML enhanced for web apps! angula..."
      ]
     },
     "execution_count": 19,
     "metadata": {},
     "output_type": "execute_result"
    }
   ],
   "source": [
    "data[:10]"
   ]
  },
  {
   "cell_type": "code",
   "execution_count": 20,
   "metadata": {},
   "outputs": [],
   "source": [
    "data_text = data[['collection']]"
   ]
  },
  {
   "cell_type": "code",
   "execution_count": 21,
   "metadata": {},
   "outputs": [
    {
     "name": "stderr",
     "output_type": "stream",
     "text": [
      "/Library/Frameworks/Python.framework/Versions/3.6/lib/python3.6/site-packages/ipykernel_launcher.py:1: SettingWithCopyWarning: \n",
      "A value is trying to be set on a copy of a slice from a DataFrame.\n",
      "Try using .loc[row_indexer,col_indexer] = value instead\n",
      "\n",
      "See the caveats in the documentation: http://pandas.pydata.org/pandas-docs/stable/indexing.html#indexing-view-versus-copy\n",
      "  \"\"\"Entry point for launching an IPython kernel.\n"
     ]
    }
   ],
   "source": [
    "data_text['index'] = data_text.index"
   ]
  },
  {
   "cell_type": "code",
   "execution_count": 22,
   "metadata": {},
   "outputs": [],
   "source": [
    "documents = data_text"
   ]
  },
  {
   "cell_type": "code",
   "execution_count": 23,
   "metadata": {},
   "outputs": [
    {
     "name": "stdout",
     "output_type": "stream",
     "text": [
      "980\n"
     ]
    }
   ],
   "source": [
    "print(len(documents))"
   ]
  },
  {
   "cell_type": "code",
   "execution_count": 24,
   "metadata": {},
   "outputs": [
    {
     "name": "stderr",
     "output_type": "stream",
     "text": [
      "[nltk_data] Downloading package wordnet to\n",
      "[nltk_data]     /Users/abdulaziz/nltk_data...\n",
      "[nltk_data]   Package wordnet is already up-to-date!\n"
     ]
    }
   ],
   "source": [
    "import gensim\n",
    "from gensim.utils import simple_preprocess\n",
    "from gensim.parsing.preprocessing import STOPWORDS\n",
    "from nltk.stem import WordNetLemmatizer, SnowballStemmer\n",
    "from nltk.stem.porter import *\n",
    "import numpy as np\n",
    "np.random.seed(1234)\n",
    "import nltk\n",
    "nltk.download('wordnet')\n",
    "stemmer = SnowballStemmer(\"english\")\n"
   ]
  },
  {
   "cell_type": "code",
   "execution_count": 25,
   "metadata": {},
   "outputs": [],
   "source": [
    "def lemmatize_stemming(text):\n",
    "    return stemmer.stem(WordNetLemmatizer().lemmatize(text, pos='v'))\n",
    "\n",
    "def preprocess(text):\n",
    "    result = []\n",
    "    for token in gensim.utils.simple_preprocess(text):\n",
    "        \n",
    "        if token not in gensim.parsing.preprocessing.STOPWORDS and len(token) > 3:\n",
    "            result.append(lemmatize_stemming(token))\n",
    "    return result"
   ]
  },
  {
   "cell_type": "code",
   "execution_count": 26,
   "metadata": {},
   "outputs": [],
   "source": [
    "processed_docs = documents['collection'].map(preprocess)"
   ]
  },
  {
   "cell_type": "code",
   "execution_count": 27,
   "metadata": {},
   "outputs": [],
   "source": [
    "dictionary = gensim.corpora.Dictionary(processed_docs)"
   ]
  },
  {
   "cell_type": "code",
   "execution_count": 28,
   "metadata": {},
   "outputs": [],
   "source": [
    "dictionary.filter_extremes(no_below=15, no_above=0.5, keep_n=100000)"
   ]
  },
  {
   "cell_type": "code",
   "execution_count": 29,
   "metadata": {},
   "outputs": [],
   "source": [
    "bow_corpus = [dictionary.doc2bow(doc) for doc in processed_docs]"
   ]
  },
  {
   "cell_type": "code",
   "execution_count": 30,
   "metadata": {},
   "outputs": [
    {
     "data": {
      "text/plain": [
       "[(0, 2),\n",
       " (1, 1),\n",
       " (2, 1),\n",
       " (3, 1),\n",
       " (4, 1),\n",
       " (5, 1),\n",
       " (6, 1),\n",
       " (7, 2),\n",
       " (8, 1),\n",
       " (9, 2),\n",
       " (10, 2),\n",
       " (11, 1),\n",
       " (12, 1),\n",
       " (13, 2),\n",
       " (14, 1),\n",
       " (15, 5),\n",
       " (16, 1),\n",
       " (17, 1),\n",
       " (18, 1),\n",
       " (19, 1),\n",
       " (20, 1),\n",
       " (21, 1),\n",
       " (22, 1),\n",
       " (23, 1),\n",
       " (24, 26),\n",
       " (25, 1),\n",
       " (26, 2),\n",
       " (27, 1),\n",
       " (28, 1),\n",
       " (29, 2),\n",
       " (30, 1),\n",
       " (31, 1),\n",
       " (32, 1),\n",
       " (33, 1),\n",
       " (34, 1),\n",
       " (35, 3),\n",
       " (36, 2),\n",
       " (37, 1),\n",
       " (38, 5),\n",
       " (39, 2),\n",
       " (40, 1),\n",
       " (41, 1),\n",
       " (42, 1),\n",
       " (43, 3),\n",
       " (44, 2),\n",
       " (45, 1),\n",
       " (46, 1),\n",
       " (47, 2),\n",
       " (48, 5),\n",
       " (49, 1),\n",
       " (50, 3),\n",
       " (51, 1),\n",
       " (52, 1),\n",
       " (53, 1),\n",
       " (54, 1),\n",
       " (55, 1),\n",
       " (56, 1),\n",
       " (57, 1),\n",
       " (58, 1),\n",
       " (59, 1),\n",
       " (60, 1),\n",
       " (61, 1),\n",
       " (62, 1),\n",
       " (63, 1),\n",
       " (64, 3),\n",
       " (65, 1),\n",
       " (66, 1),\n",
       " (67, 1),\n",
       " (68, 1),\n",
       " (69, 1),\n",
       " (70, 1),\n",
       " (71, 3),\n",
       " (72, 2),\n",
       " (73, 1),\n",
       " (74, 1),\n",
       " (75, 2),\n",
       " (76, 1),\n",
       " (77, 1),\n",
       " (78, 1),\n",
       " (79, 1),\n",
       " (80, 1),\n",
       " (81, 1),\n",
       " (82, 7),\n",
       " (83, 2),\n",
       " (84, 2),\n",
       " (85, 1),\n",
       " (86, 1),\n",
       " (87, 1),\n",
       " (88, 1),\n",
       " (89, 3),\n",
       " (90, 1),\n",
       " (91, 1),\n",
       " (92, 1),\n",
       " (93, 1),\n",
       " (94, 1),\n",
       " (95, 8),\n",
       " (96, 4),\n",
       " (97, 1),\n",
       " (98, 1),\n",
       " (99, 1),\n",
       " (100, 1),\n",
       " (101, 1),\n",
       " (102, 1),\n",
       " (103, 7),\n",
       " (104, 6),\n",
       " (105, 2),\n",
       " (106, 2),\n",
       " (107, 1),\n",
       " (108, 1),\n",
       " (109, 2),\n",
       " (110, 1),\n",
       " (111, 2),\n",
       " (112, 1),\n",
       " (113, 1),\n",
       " (114, 1),\n",
       " (115, 1),\n",
       " (116, 1),\n",
       " (117, 1),\n",
       " (118, 1),\n",
       " (119, 1),\n",
       " (120, 3),\n",
       " (121, 1),\n",
       " (122, 1),\n",
       " (123, 2),\n",
       " (124, 1),\n",
       " (125, 1),\n",
       " (126, 1),\n",
       " (127, 1),\n",
       " (128, 1),\n",
       " (129, 1),\n",
       " (130, 1),\n",
       " (131, 1),\n",
       " (132, 1),\n",
       " (133, 3),\n",
       " (134, 1),\n",
       " (135, 4),\n",
       " (136, 3),\n",
       " (137, 3),\n",
       " (138, 1),\n",
       " (139, 1),\n",
       " (140, 1),\n",
       " (141, 1),\n",
       " (142, 1),\n",
       " (143, 1),\n",
       " (144, 1),\n",
       " (145, 1),\n",
       " (146, 4),\n",
       " (147, 1),\n",
       " (148, 1),\n",
       " (149, 2),\n",
       " (150, 2),\n",
       " (151, 1),\n",
       " (152, 1),\n",
       " (153, 1),\n",
       " (154, 3),\n",
       " (155, 1),\n",
       " (156, 2),\n",
       " (157, 1),\n",
       " (158, 1),\n",
       " (159, 1),\n",
       " (160, 1),\n",
       " (161, 1),\n",
       " (162, 2),\n",
       " (163, 2),\n",
       " (164, 2),\n",
       " (165, 1),\n",
       " (166, 1),\n",
       " (167, 1),\n",
       " (168, 7),\n",
       " (169, 1),\n",
       " (170, 1),\n",
       " (171, 1),\n",
       " (172, 1),\n",
       " (173, 1),\n",
       " (174, 1),\n",
       " (175, 1),\n",
       " (176, 3),\n",
       " (177, 1),\n",
       " (178, 1),\n",
       " (179, 2),\n",
       " (180, 2),\n",
       " (181, 1),\n",
       " (182, 1),\n",
       " (183, 2),\n",
       " (184, 1),\n",
       " (185, 1),\n",
       " (186, 1),\n",
       " (187, 1),\n",
       " (188, 1),\n",
       " (189, 1),\n",
       " (190, 2),\n",
       " (191, 3),\n",
       " (192, 1),\n",
       " (193, 3),\n",
       " (194, 1),\n",
       " (195, 1),\n",
       " (196, 1),\n",
       " (197, 1),\n",
       " (198, 2),\n",
       " (199, 1),\n",
       " (200, 2),\n",
       " (201, 1),\n",
       " (202, 1),\n",
       " (203, 1),\n",
       " (204, 4),\n",
       " (205, 1),\n",
       " (206, 1),\n",
       " (207, 1),\n",
       " (208, 2),\n",
       " (209, 1),\n",
       " (210, 1),\n",
       " (211, 1)]"
      ]
     },
     "execution_count": 30,
     "metadata": {},
     "output_type": "execute_result"
    }
   ],
   "source": [
    "bow_corpus[0]"
   ]
  },
  {
   "cell_type": "code",
   "execution_count": 31,
   "metadata": {},
   "outputs": [
    {
     "name": "stdout",
     "output_type": "stream",
     "text": [
      "Word 0 (\"abl\") appears 2 time.\n",
      "Word 1 (\"access\") appears 1 time.\n",
      "Word 2 (\"activ\") appears 1 time.\n",
      "Word 3 (\"advanc\") appears 1 time.\n",
      "Word 4 (\"agil\") appears 1 time.\n",
      "Word 5 (\"ahead\") appears 1 time.\n",
      "Word 6 (\"ajax\") appears 1 time.\n",
      "Word 7 (\"algorithm\") appears 2 time.\n",
      "Word 8 (\"anonym\") appears 1 time.\n",
      "Word 9 (\"api\") appears 2 time.\n",
      "Word 10 (\"appli\") appears 2 time.\n",
      "Word 11 (\"articl\") appears 1 time.\n",
      "Word 12 (\"autom\") appears 1 time.\n",
      "Word 13 (\"avail\") appears 2 time.\n",
      "Word 14 (\"banner\") appears 1 time.\n",
      "Word 15 (\"basic\") appears 5 time.\n",
      "Word 16 (\"begin\") appears 1 time.\n",
      "Word 17 (\"bind\") appears 1 time.\n",
      "Word 18 (\"board\") appears 1 time.\n",
      "Word 19 (\"bootstrap\") appears 1 time.\n",
      "Word 20 (\"busi\") appears 1 time.\n",
      "Word 21 (\"calcul\") appears 1 time.\n",
      "Word 22 (\"cash\") appears 1 time.\n",
      "Word 23 (\"catch\") appears 1 time.\n",
      "Word 24 (\"certif\") appears 26 time.\n",
      "Word 25 (\"chai\") appears 1 time.\n",
      "Word 26 (\"challeng\") appears 2 time.\n",
      "Word 27 (\"channel\") appears 1 time.\n",
      "Word 28 (\"chart\") appears 1 time.\n",
      "Word 29 (\"checker\") appears 2 time.\n",
      "Word 30 (\"claim\") appears 1 time.\n",
      "Word 31 (\"claus\") appears 1 time.\n",
      "Word 32 (\"click\") appears 1 time.\n",
      "Word 33 (\"client\") appears 1 time.\n",
      "Word 34 (\"clock\") appears 1 time.\n",
      "Word 35 (\"cod\") appears 3 time.\n",
      "Word 36 (\"codebas\") appears 2 time.\n",
      "Word 37 (\"codepen\") appears 1 time.\n",
      "Word 38 (\"communiti\") appears 5 time.\n",
      "Word 39 (\"complet\") appears 2 time.\n",
      "Word 40 (\"comprehens\") appears 1 time.\n",
      "Word 41 (\"confid\") appears 1 time.\n",
      "Word 42 (\"confirm\") appears 1 time.\n",
      "Word 43 (\"content\") appears 3 time.\n",
      "Word 44 (\"convert\") appears 2 time.\n",
      "Word 45 (\"copyright\") appears 1 time.\n",
      "Word 46 (\"core\") appears 1 time.\n",
      "Word 47 (\"creat\") appears 2 time.\n",
      "Word 48 (\"data\") appears 5 time.\n",
      "Word 49 (\"debug\") appears 1 time.\n",
      "Word 50 (\"design\") appears 3 time.\n",
      "Word 51 (\"diagram\") appears 1 time.\n",
      "Word 52 (\"discov\") appears 1 time.\n",
      "Word 53 (\"distinct\") appears 1 time.\n",
      "Word 54 (\"educ\") appears 1 time.\n",
      "Word 55 (\"email\") appears 1 time.\n",
      "Word 56 (\"employ\") appears 1 time.\n",
      "Word 57 (\"ensur\") appears 1 time.\n",
      "Word 58 (\"environ\") appears 1 time.\n",
      "Word 59 (\"estim\") appears 1 time.\n",
      "Word 60 (\"event\") appears 1 time.\n",
      "Word 61 (\"except\") appears 1 time.\n",
      "Word 62 (\"exercis\") appears 1 time.\n",
      "Word 63 (\"expand\") appears 1 time.\n",
      "Word 64 (\"express\") appears 3 time.\n",
      "Word 65 (\"face\") appears 1 time.\n",
      "Word 66 (\"final\") appears 1 time.\n",
      "Word 67 (\"flexbox\") appears 1 time.\n",
      "Word 68 (\"folder\") appears 1 time.\n",
      "Word 69 (\"form\") appears 1 time.\n",
      "Word 70 (\"forum\") appears 1 time.\n",
      "Word 71 (\"free\") appears 3 time.\n",
      "Word 72 (\"friend\") appears 2 time.\n",
      "Word 73 (\"fulfil\") appears 1 time.\n",
      "Word 74 (\"function\") appears 1 time.\n",
      "Word 75 (\"github\") appears 2 time.\n",
      "Word 76 (\"goal\") appears 1 time.\n",
      "Word 77 (\"graph\") appears 1 time.\n",
      "Word 78 (\"grid\") appears 1 time.\n",
      "Word 79 (\"group\") appears 1 time.\n",
      "Word 80 (\"guid\") appears 1 time.\n",
      "Word 81 (\"header\") appears 1 time.\n",
      "Word 82 (\"help\") appears 7 time.\n",
      "Word 83 (\"hour\") appears 2 time.\n",
      "Word 84 (\"html\") appears 2 time.\n",
      "Word 85 (\"https\") appears 1 time.\n",
      "Word 86 (\"hundr\") appears 1 time.\n",
      "Word 87 (\"immedi\") appears 1 time.\n",
      "Word 88 (\"increment\") appears 1 time.\n",
      "Word 89 (\"inform\") appears 3 time.\n",
      "Word 90 (\"instead\") appears 1 time.\n",
      "Word 91 (\"institut\") appears 1 time.\n",
      "Word 92 (\"instruct\") appears 1 time.\n",
      "Word 93 (\"interact\") appears 1 time.\n",
      "Word 94 (\"involv\") appears 1 time.\n",
      "Word 95 (\"issu\") appears 8 time.\n",
      "Word 96 (\"javascript\") appears 4 time.\n",
      "Word 97 (\"join\") appears 1 time.\n",
      "Word 98 (\"jqueri\") appears 1 time.\n",
      "Word 99 (\"json\") appears 1 time.\n",
      "Word 100 (\"know\") appears 1 time.\n",
      "Word 101 (\"land\") appears 1 time.\n",
      "Word 102 (\"largest\") appears 1 time.\n",
      "Word 103 (\"learn\") appears 7 time.\n",
      "Word 104 (\"legaci\") appears 6 time.\n",
      "Word 105 (\"librari\") appears 2 time.\n",
      "Word 106 (\"link\") appears 2 time.\n",
      "Word 107 (\"linkedin\") appears 1 time.\n",
      "Word 108 (\"live\") appears 1 time.\n",
      "Word 109 (\"local\") appears 2 time.\n",
      "Word 110 (\"look\") appears 1 time.\n",
      "Word 111 (\"machin\") appears 2 time.\n",
      "Word 112 (\"manag\") appears 1 time.\n",
      "Word 113 (\"markdown\") appears 1 time.\n",
      "Word 114 (\"math\") appears 1 time.\n",
      "Word 115 (\"mean\") appears 1 time.\n",
      "Word 116 (\"medium\") appears 1 time.\n",
      "Word 117 (\"messag\") appears 1 time.\n",
      "Word 118 (\"metadata\") appears 1 time.\n",
      "Word 119 (\"metric\") appears 1 time.\n",
      "Word 120 (\"microservic\") appears 3 time.\n",
      "Word 121 (\"million\") appears 1 time.\n",
      "Word 122 (\"mongodb\") appears 1 time.\n",
      "Word 123 (\"node\") appears 2 time.\n",
      "Word 124 (\"nodej\") appears 1 time.\n",
      "Word 125 (\"number\") appears 1 time.\n",
      "Word 126 (\"numer\") appears 1 time.\n",
      "Word 127 (\"object\") appears 1 time.\n",
      "Word 128 (\"offer\") appears 1 time.\n",
      "Word 129 (\"option\") appears 1 time.\n",
      "Word 130 (\"orient\") appears 1 time.\n",
      "Word 131 (\"pace\") appears 1 time.\n",
      "Word 132 (\"packag\") appears 1 time.\n",
      "Word 133 (\"page\") appears 3 time.\n",
      "Word 134 (\"parser\") appears 1 time.\n",
      "Word 135 (\"peopl\") appears 4 time.\n",
      "Word 136 (\"person\") appears 3 time.\n",
      "Word 137 (\"platform\") appears 3 time.\n",
      "Word 138 (\"polici\") appears 1 time.\n",
      "Word 139 (\"popular\") appears 1 time.\n",
      "Word 140 (\"possibl\") appears 1 time.\n",
      "Word 141 (\"prepar\") appears 1 time.\n",
      "Word 142 (\"preview\") appears 1 time.\n",
      "Word 143 (\"price\") appears 1 time.\n",
      "Word 144 (\"principl\") appears 1 time.\n",
      "Word 145 (\"product\") appears 1 time.\n",
      "Word 146 (\"program\") appears 4 time.\n",
      "Word 147 (\"programm\") appears 1 time.\n",
      "Word 148 (\"public\") appears 1 time.\n",
      "Word 149 (\"pull\") appears 2 time.\n",
      "Word 150 (\"qualiti\") appears 2 time.\n",
      "Word 151 (\"quot\") appears 1 time.\n",
      "Word 152 (\"random\") appears 1 time.\n",
      "Word 153 (\"rang\") appears 1 time.\n",
      "Word 154 (\"react\") appears 3 time.\n",
      "Word 155 (\"read\") appears 1 time.\n",
      "Word 156 (\"redux\") appears 2 time.\n",
      "Word 157 (\"regist\") appears 1 time.\n",
      "Word 158 (\"regular\") appears 1 time.\n",
      "Word 159 (\"remain\") appears 1 time.\n",
      "Word 160 (\"repositori\") appears 1 time.\n",
      "Word 161 (\"reproduc\") appears 1 time.\n",
      "Word 162 (\"request\") appears 2 time.\n",
      "Word 163 (\"requir\") appears 2 time.\n",
      "Word 164 (\"respons\") appears 2 time.\n",
      "Word 165 (\"run\") appears 1 time.\n",
      "Word 166 (\"sass\") appears 1 time.\n",
      "Word 167 (\"script\") appears 1 time.\n",
      "Word 168 (\"secur\") appears 7 time.\n",
      "Word 169 (\"self\") appears 1 time.\n",
      "Word 170 (\"send\") appears 1 time.\n",
      "Word 171 (\"shorten\") appears 1 time.\n",
      "Word 172 (\"skill\") appears 1 time.\n",
      "Word 173 (\"social\") appears 1 time.\n",
      "Word 174 (\"softwar\") appears 1 time.\n",
      "Word 175 (\"specif\") appears 1 time.\n",
      "Word 176 (\"stack\") appears 3 time.\n",
      "Word 177 (\"step\") appears 1 time.\n",
      "Word 178 (\"stock\") appears 1 time.\n",
      "Word 179 (\"stori\") appears 2 time.\n",
      "Word 180 (\"structur\") appears 2 time.\n",
      "Word 181 (\"studi\") appears 1 time.\n",
      "Word 182 (\"subdirectori\") appears 1 time.\n",
      "Word 183 (\"submit\") appears 2 time.\n",
      "Word 184 (\"suit\") appears 1 time.\n",
      "Word 185 (\"super\") appears 1 time.\n",
      "Word 186 (\"sure\") appears 1 time.\n",
      "Word 187 (\"survey\") appears 1 time.\n",
      "Word 188 (\"tabl\") appears 1 time.\n",
      "Word 189 (\"tech\") appears 1 time.\n",
      "Word 190 (\"technic\") appears 2 time.\n",
      "Word 191 (\"test\") appears 3 time.\n",
      "Word 192 (\"think\") appears 1 time.\n",
      "Word 193 (\"thousand\") appears 3 time.\n",
      "Word 194 (\"timer\") appears 1 time.\n",
      "Word 195 (\"timestamp\") appears 1 time.\n",
      "Word 196 (\"tool\") appears 1 time.\n",
      "Word 197 (\"topic\") appears 1 time.\n",
      "Word 198 (\"tracker\") appears 2 time.\n",
      "Word 199 (\"transit\") appears 1 time.\n",
      "Word 200 (\"user\") appears 2 time.\n",
      "Word 201 (\"valid\") appears 1 time.\n",
      "Word 202 (\"verifi\") appears 1 time.\n",
      "Word 203 (\"violat\") appears 1 time.\n",
      "Word 204 (\"visual\") appears 4 time.\n",
      "Word 205 (\"vulner\") appears 1 time.\n",
      "Word 206 (\"webpag\") appears 1 time.\n",
      "Word 207 (\"websit\") appears 1 time.\n",
      "Word 208 (\"welcom\") appears 2 time.\n",
      "Word 209 (\"wide\") appears 1 time.\n",
      "Word 210 (\"world\") appears 1 time.\n",
      "Word 211 (\"youtub\") appears 1 time.\n"
     ]
    }
   ],
   "source": [
    "bow_doc_0 = bow_corpus[0]\n",
    "for i in range(len(bow_doc_0)):\n",
    "    print(\"Word {} (\\\"{}\\\") appears {} time.\".format(bow_doc_0[i][0], \n",
    "                                               dictionary[bow_doc_0[i][0]], \n",
    "bow_doc_0[i][1]))"
   ]
  },
  {
   "cell_type": "code",
   "execution_count": 32,
   "metadata": {},
   "outputs": [],
   "source": [
    "from gensim import corpora, models\n",
    "tfidf = models.TfidfModel(bow_corpus)\n",
    "corpus_tfidf = tfidf[bow_corpus]"
   ]
  },
  {
   "cell_type": "code",
   "execution_count": 33,
   "metadata": {},
   "outputs": [],
   "source": [
    "lda_model = gensim.models.LdaMulticore(bow_corpus, num_topics=10, id2word=dictionary, passes=2, workers=2)"
   ]
  },
  {
   "cell_type": "code",
   "execution_count": 34,
   "metadata": {},
   "outputs": [
    {
     "name": "stdout",
     "output_type": "stream",
     "text": [
      "Topic: 0 \n",
      "Words: 0.012*\"docker\" + 0.011*\"icon\" + 0.009*\"compon\" + 0.008*\"function\" + 0.008*\"android\" + 0.007*\"plugin\" + 0.007*\"imag\" + 0.006*\"serverless\" + 0.006*\"exampl\" + 0.006*\"softwar\"\n",
      "Topic: 1 \n",
      "Words: 0.014*\"librari\" + 0.010*\"data\" + 0.007*\"server\" + 0.007*\"tool\" + 0.006*\"width\" + 0.006*\"manag\" + 0.006*\"base\" + 0.006*\"program\" + 0.006*\"test\" + 0.006*\"python\"\n",
      "Topic: 2 \n",
      "Words: 0.014*\"function\" + 0.014*\"blank\" + 0.013*\"href\" + 0.012*\"target\" + 0.011*\"option\" + 0.009*\"true\" + 0.009*\"javascript\" + 0.008*\"default\" + 0.008*\"return\" + 0.007*\"exampl\"\n",
      "Topic: 3 \n",
      "Words: 0.013*\"learn\" + 0.011*\"librari\" + 0.009*\"javascript\" + 0.009*\"data\" + 0.008*\"algorithm\" + 0.006*\"python\" + 0.006*\"machin\" + 0.006*\"href\" + 0.006*\"target\" + 0.006*\"framework\"\n",
      "Topic: 4 \n",
      "Words: 0.039*\"href\" + 0.020*\"summari\" + 0.019*\"detail\" + 0.011*\"add\" + 0.009*\"javascript\" + 0.007*\"browser\" + 0.007*\"html\" + 0.006*\"target\" + 0.006*\"option\" + 0.006*\"swift\"\n",
      "Topic: 5 \n",
      "Words: 0.008*\"page\" + 0.007*\"interview\" + 0.007*\"default\" + 0.006*\"test\" + 0.006*\"librari\" + 0.005*\"window\" + 0.005*\"javascript\" + 0.005*\"option\" + 0.005*\"home\" + 0.005*\"exampl\"\n",
      "Topic: 6 \n",
      "Words: 0.008*\"option\" + 0.008*\"imag\" + 0.007*\"data\" + 0.007*\"star\" + 0.007*\"user\" + 0.006*\"download\" + 0.006*\"video\" + 0.006*\"command\" + 0.005*\"free\" + 0.005*\"exampl\"\n",
      "Topic: 7 \n",
      "Words: 0.012*\"swift\" + 0.011*\"learn\" + 0.009*\"data\" + 0.008*\"design\" + 0.008*\"librari\" + 0.007*\"applic\" + 0.006*\"imag\" + 0.006*\"android\" + 0.006*\"test\" + 0.006*\"video\"\n",
      "Topic: 8 \n",
      "Words: 0.053*\"react\" + 0.024*\"nativ\" + 0.012*\"compon\" + 0.010*\"librari\" + 0.009*\"redux\" + 0.006*\"rubi\" + 0.006*\"color\" + 0.006*\"simpl\" + 0.006*\"command\" + 0.006*\"android\"\n",
      "Topic: 9 \n",
      "Words: 0.011*\"data\" + 0.010*\"unknown\" + 0.009*\"angularj\" + 0.009*\"anim\" + 0.008*\"view\" + 0.007*\"react\" + 0.007*\"test\" + 0.007*\"default\" + 0.007*\"valu\" + 0.007*\"exampl\"\n"
     ]
    }
   ],
   "source": [
    "for idx, topic in lda_model.print_topics(-1):\n",
    "    print('Topic: {} \\nWords: {}'.format(idx, topic))"
   ]
  },
  {
   "cell_type": "code",
   "execution_count": null,
   "metadata": {},
   "outputs": [],
   "source": []
  },
  {
   "cell_type": "markdown",
   "metadata": {},
   "source": [
    "## LSA  WITH Language Dataset with source content ##"
   ]
  },
  {
   "cell_type": "code",
   "execution_count": 35,
   "metadata": {},
   "outputs": [],
   "source": [
    "data = pd.read_csv('./data/language_Dataset_source_content.csv', sep='\\t')"
   ]
  },
  {
   "cell_type": "code",
   "execution_count": 36,
   "metadata": {},
   "outputs": [
    {
     "name": "stderr",
     "output_type": "stream",
     "text": [
      "/Library/Frameworks/Python.framework/Versions/3.6/lib/python3.6/site-packages/ipykernel_launcher.py:2: SettingWithCopyWarning: \n",
      "A value is trying to be set on a copy of a slice from a DataFrame.\n",
      "Try using .loc[row_indexer,col_indexer] = value instead\n",
      "\n",
      "See the caveats in the documentation: http://pandas.pydata.org/pandas-docs/stable/indexing.html#indexing-view-versus-copy\n",
      "  \n"
     ]
    }
   ],
   "source": [
    "data_text = data[['collection']]\n",
    "data_text['index'] = data_text.index"
   ]
  },
  {
   "cell_type": "code",
   "execution_count": 37,
   "metadata": {},
   "outputs": [],
   "source": [
    "documents = data_text"
   ]
  },
  {
   "cell_type": "code",
   "execution_count": 38,
   "metadata": {},
   "outputs": [
    {
     "data": {
      "text/plain": [
       "980"
      ]
     },
     "execution_count": 38,
     "metadata": {},
     "output_type": "execute_result"
    }
   ],
   "source": [
    "len(documents)"
   ]
  },
  {
   "cell_type": "code",
   "execution_count": 39,
   "metadata": {},
   "outputs": [
    {
     "data": {
      "text/plain": [
       "0      The https://freeCodeCamp.com open source codeb...\n",
       "1      The most popular HTML, CSS, and JavaScript fra...\n",
       "2       Freely available programming books free-progr...\n",
       "3      A declarative, efficient, and flexible JavaScr...\n",
       "4      Bring data to life with SVG, Canvas and HTML. ...\n",
       "5      A book series on JavaScript. @YDKJS on twitter...\n",
       "6      Computation using data flow graphs for scalabl...\n",
       "7       Curated list of awesome lists awesome lists,a...\n",
       "8      A progressive, incrementally-adoptable JavaScr...\n",
       "9      AngularJS - HTML enhanced for web apps! angula...\n",
       "10     A delightful community-driven (with 1,000+ con...\n",
       "11     JavaScript Style Guide javascript arrow-functi...\n",
       "12     A collection of useful .gitignore templates gi...\n",
       "13     The iconic font and CSS toolkit Font-Awesome n...\n",
       "14     A framework for building native apps with Reac...\n",
       "15     Build cross platform desktop apps with JavaScr...\n",
       "16     Linux kernel source tree linux nan torvalds SP...\n",
       "17     jQuery JavaScript Library jquery nan jquery de...\n",
       "18     A complete computer science study plan to beco...\n",
       "19     Moby Project - a collaborative project for the...\n",
       "20      A cross-browser library of CSS animations. As...\n",
       "21     The Swift Programming Language swift nan apple...\n",
       "22     The hackable text editor atom linux,macos,atom...\n",
       "23     Meteor, the JavaScript App Platform meteor jav...\n",
       "24     A professional front-end template for building...\n",
       "25     Node.js JavaScript runtime  node javascript,no...\n",
       "26     Moved to https://github.com/nodejs/node node-v...\n",
       "27     Ruby on Rails rails rails,ruby,html,mvc,active...\n",
       "28     Semantic is a UI component framework based aro...\n",
       "29     A curated list of awesome Python frameworks, l...\n",
       "                             ...                        \n",
       "950    High performance and SEO friendly lazy loader ...\n",
       "951    jQuery plugin for lazy loading images jquery_l...\n",
       "952     a short introduction to node.js art-of-node n...\n",
       "953    An open source status page system for everyone...\n",
       "954    This project demonstrates how to access and te...\n",
       "955    Theano is a Python library that allows you to ...\n",
       "956    A window management application (replacement f...\n",
       "957    OBS - Free and open source software for live s...\n",
       "958     JavaScript is all like \"You images done yet o...\n",
       "959    A set of React components implementing Google'...\n",
       "960    Microsoft REST API Guidelines api-guidelines a...\n",
       "961     Search Interactive Mind Maps to learn anythin...\n",
       "962    Horizon is a realtime, open-source backend for...\n",
       "963    Pleasant Android application development anko ...\n",
       "964    The ultimate API for iOS & OS X Auto Layout  i...\n",
       "965    A custom view component that mimics the new Ma...\n",
       "966    Standards for flexible, durable, and sustainab...\n",
       "967    Python Fire is a library for automatically gen...\n",
       "968    Mobile Shell mosh nan mobile-shell bin gbp bui...\n",
       "969    after effects to html library bodymovin nan bo...\n",
       "970    A shell script to set up a macOS laptop for we...\n",
       "971    An embedded key/value database for Go. bolt go...\n",
       "972    An easy-to-read, quick reference for JS best p...\n",
       "973    The open source JavaScript graphing library th...\n",
       "974     Companies that don't have a broken hiring pro...\n",
       "975    Custom fonts in Android the easy way... Callig...\n",
       "976    HTTPie + prompt_toolkit = an interactive comma...\n",
       "977    TCP port scanner, spews SYN packets asynchrono...\n",
       "978    Mobile UI elements for Vue.js mint-ui vue,mobi...\n",
       "979    The modern video player for macOS. iina macos,...\n",
       "Name: collection, Length: 980, dtype: object"
      ]
     },
     "execution_count": 39,
     "metadata": {},
     "output_type": "execute_result"
    }
   ],
   "source": [
    "documents['collection']"
   ]
  },
  {
   "cell_type": "code",
   "execution_count": 40,
   "metadata": {},
   "outputs": [
    {
     "name": "stderr",
     "output_type": "stream",
     "text": [
      "/Library/Frameworks/Python.framework/Versions/3.6/lib/python3.6/site-packages/ipykernel_launcher.py:6: SettingWithCopyWarning: \n",
      "A value is trying to be set on a copy of a slice from a DataFrame.\n",
      "Try using .loc[row_indexer,col_indexer] = value instead\n",
      "\n",
      "See the caveats in the documentation: http://pandas.pydata.org/pandas-docs/stable/indexing.html#indexing-view-versus-copy\n",
      "  \n",
      "/Library/Frameworks/Python.framework/Versions/3.6/lib/python3.6/site-packages/ipykernel_launcher.py:9: SettingWithCopyWarning: \n",
      "A value is trying to be set on a copy of a slice from a DataFrame.\n",
      "Try using .loc[row_indexer,col_indexer] = value instead\n",
      "\n",
      "See the caveats in the documentation: http://pandas.pydata.org/pandas-docs/stable/indexing.html#indexing-view-versus-copy\n",
      "  if __name__ == '__main__':\n",
      "/Library/Frameworks/Python.framework/Versions/3.6/lib/python3.6/site-packages/ipykernel_launcher.py:12: SettingWithCopyWarning: \n",
      "A value is trying to be set on a copy of a slice from a DataFrame.\n",
      "Try using .loc[row_indexer,col_indexer] = value instead\n",
      "\n",
      "See the caveats in the documentation: http://pandas.pydata.org/pandas-docs/stable/indexing.html#indexing-view-versus-copy\n",
      "  if sys.path[0] == '':\n",
      "/Library/Frameworks/Python.framework/Versions/3.6/lib/python3.6/site-packages/ipykernel_launcher.py:14: SettingWithCopyWarning: \n",
      "A value is trying to be set on a copy of a slice from a DataFrame.\n",
      "Try using .loc[row_indexer,col_indexer] = value instead\n",
      "\n",
      "See the caveats in the documentation: http://pandas.pydata.org/pandas-docs/stable/indexing.html#indexing-view-versus-copy\n",
      "  \n"
     ]
    }
   ],
   "source": [
    "\n",
    "\n",
    "html_lists = ['html','head','body','href','DOCTYPE', 'head', 'title','']\n",
    "\n",
    "# removing everything except alphabets`\n",
    "documents['collection'] = documents['collection'].str.replace(\"[^a-zA-Z#]\", \" \")\n",
    "\n",
    "# removing short words\n",
    "documents['collection'] =  documents['collection'].apply(lambda x: ' '.join([w for w in x.split() if len(w)>3]))\n",
    "\n",
    "# make all text lowercase\n",
    "documents['collection'] =  documents['collection'].apply(lambda x: x.lower())\n",
    "\n",
    "documents['collection'] = documents['collection'].apply(lambda x:  ' '.join([word for word in x.split() if word not in (html_lists)]))\n",
    "\n"
   ]
  },
  {
   "cell_type": "code",
   "execution_count": 41,
   "metadata": {},
   "outputs": [
    {
     "data": {
      "text/plain": [
       "(980, 1000)"
      ]
     },
     "execution_count": 41,
     "metadata": {},
     "output_type": "execute_result"
    }
   ],
   "source": [
    "from sklearn.feature_extraction.text import TfidfVectorizer\n",
    "\n",
    "\n",
    "vectorizer = TfidfVectorizer(stop_words='english', \n",
    "                    max_features= 1000, # keep top 1000 terms \n",
    "                    max_df = 0.5, \n",
    "                    smooth_idf=True)\n",
    "\n",
    "\n",
    "X = vectorizer.fit_transform(documents['collection'])\n",
    "\n",
    "X.shape"
   ]
  },
  {
   "cell_type": "code",
   "execution_count": 42,
   "metadata": {},
   "outputs": [
    {
     "data": {
      "text/plain": [
       "6"
      ]
     },
     "execution_count": 42,
     "metadata": {},
     "output_type": "execute_result"
    }
   ],
   "source": [
    "from sklearn.decomposition import TruncatedSVD\n",
    "\n",
    "# SVD represent documents and terms in vectors \n",
    "svd_model = TruncatedSVD(n_components=6, algorithm='randomized', n_iter=100, random_state=122)\n",
    "\n",
    "svd_model.fit(X)\n",
    "\n",
    "len(svd_model.components_)"
   ]
  },
  {
   "cell_type": "code",
   "execution_count": 43,
   "metadata": {},
   "outputs": [
    {
     "name": "stdout",
     "output_type": "stream",
     "text": [
      "Topic 0: \n",
      "license import require module array const node \n",
      "\n",
      "Topic 1: \n",
      "apache license software governing compliance limitations agreed \n",
      "\n",
      "Topic 2: \n",
      "xcode idiom images scale author info universal \n",
      "\n",
      "Topic 3: \n",
      "awesome resources react collection javascript android github \n",
      "\n",
      "Topic 4: \n",
      "react const import export require path module \n",
      "\n",
      "Topic 5: \n",
      "react android import export const component extends \n",
      "\n"
     ]
    }
   ],
   "source": [
    "terms = vectorizer.get_feature_names()\n",
    "\n",
    "for i, comp in enumerate(svd_model.components_):\n",
    "    terms_comp = zip(terms, comp)\n",
    "    sorted_terms = sorted(terms_comp, key= lambda x:x[1], reverse=True)[:7]\n",
    "    print(\"Topic \"+str(i)+\": \")\n",
    "    for t in sorted_terms:\n",
    "        print(t[0], end=\" \")\n",
    "    print(\"\\n\")"
   ]
  },
  {
   "cell_type": "markdown",
   "metadata": {},
   "source": [
    "## LDA  WITH Language Dataset with source content ##"
   ]
  },
  {
   "cell_type": "code",
   "execution_count": 44,
   "metadata": {},
   "outputs": [],
   "source": [
    "data = pd.read_csv('./data/language_Dataset_source_content.csv', sep=\"\\t\")"
   ]
  },
  {
   "cell_type": "code",
   "execution_count": 45,
   "metadata": {},
   "outputs": [
    {
     "data": {
      "text/html": [
       "<div>\n",
       "<style scoped>\n",
       "    .dataframe tbody tr th:only-of-type {\n",
       "        vertical-align: middle;\n",
       "    }\n",
       "\n",
       "    .dataframe tbody tr th {\n",
       "        vertical-align: top;\n",
       "    }\n",
       "\n",
       "    .dataframe thead th {\n",
       "        text-align: right;\n",
       "    }\n",
       "</style>\n",
       "<table border=\"1\" class=\"dataframe\">\n",
       "  <thead>\n",
       "    <tr style=\"text-align: right;\">\n",
       "      <th></th>\n",
       "      <th>Unnamed: 0</th>\n",
       "      <th>language</th>\n",
       "      <th>collection</th>\n",
       "    </tr>\n",
       "  </thead>\n",
       "  <tbody>\n",
       "    <tr>\n",
       "      <th>0</th>\n",
       "      <td>0</td>\n",
       "      <td>JavaScript</td>\n",
       "      <td>The https://freeCodeCamp.com open source codeb...</td>\n",
       "    </tr>\n",
       "    <tr>\n",
       "      <th>1</th>\n",
       "      <td>1</td>\n",
       "      <td>JavaScript</td>\n",
       "      <td>The most popular HTML, CSS, and JavaScript fra...</td>\n",
       "    </tr>\n",
       "    <tr>\n",
       "      <th>2</th>\n",
       "      <td>2</td>\n",
       "      <td>NaN</td>\n",
       "      <td>Freely available programming books free-progr...</td>\n",
       "    </tr>\n",
       "    <tr>\n",
       "      <th>3</th>\n",
       "      <td>3</td>\n",
       "      <td>JavaScript</td>\n",
       "      <td>A declarative, efficient, and flexible JavaScr...</td>\n",
       "    </tr>\n",
       "    <tr>\n",
       "      <th>4</th>\n",
       "      <td>4</td>\n",
       "      <td>JavaScript</td>\n",
       "      <td>Bring data to life with SVG, Canvas and HTML. ...</td>\n",
       "    </tr>\n",
       "    <tr>\n",
       "      <th>5</th>\n",
       "      <td>5</td>\n",
       "      <td>JavaScript</td>\n",
       "      <td>A book series on JavaScript. @YDKJS on twitter...</td>\n",
       "    </tr>\n",
       "    <tr>\n",
       "      <th>6</th>\n",
       "      <td>6</td>\n",
       "      <td>C++</td>\n",
       "      <td>Computation using data flow graphs for scalabl...</td>\n",
       "    </tr>\n",
       "    <tr>\n",
       "      <th>7</th>\n",
       "      <td>7</td>\n",
       "      <td>NaN</td>\n",
       "      <td>Curated list of awesome lists awesome lists,a...</td>\n",
       "    </tr>\n",
       "    <tr>\n",
       "      <th>8</th>\n",
       "      <td>8</td>\n",
       "      <td>JavaScript</td>\n",
       "      <td>A progressive, incrementally-adoptable JavaScr...</td>\n",
       "    </tr>\n",
       "    <tr>\n",
       "      <th>9</th>\n",
       "      <td>9</td>\n",
       "      <td>JavaScript</td>\n",
       "      <td>AngularJS - HTML enhanced for web apps! angula...</td>\n",
       "    </tr>\n",
       "  </tbody>\n",
       "</table>\n",
       "</div>"
      ],
      "text/plain": [
       "   Unnamed: 0    language                                         collection\n",
       "0           0  JavaScript  The https://freeCodeCamp.com open source codeb...\n",
       "1           1  JavaScript  The most popular HTML, CSS, and JavaScript fra...\n",
       "2           2         NaN   Freely available programming books free-progr...\n",
       "3           3  JavaScript  A declarative, efficient, and flexible JavaScr...\n",
       "4           4  JavaScript  Bring data to life with SVG, Canvas and HTML. ...\n",
       "5           5  JavaScript  A book series on JavaScript. @YDKJS on twitter...\n",
       "6           6         C++  Computation using data flow graphs for scalabl...\n",
       "7           7         NaN   Curated list of awesome lists awesome lists,a...\n",
       "8           8  JavaScript  A progressive, incrementally-adoptable JavaScr...\n",
       "9           9  JavaScript  AngularJS - HTML enhanced for web apps! angula..."
      ]
     },
     "execution_count": 45,
     "metadata": {},
     "output_type": "execute_result"
    }
   ],
   "source": [
    "data[:10]"
   ]
  },
  {
   "cell_type": "code",
   "execution_count": 46,
   "metadata": {},
   "outputs": [],
   "source": [
    "data_text = data[['collection']]"
   ]
  },
  {
   "cell_type": "code",
   "execution_count": 47,
   "metadata": {},
   "outputs": [
    {
     "name": "stderr",
     "output_type": "stream",
     "text": [
      "/Library/Frameworks/Python.framework/Versions/3.6/lib/python3.6/site-packages/ipykernel_launcher.py:1: SettingWithCopyWarning: \n",
      "A value is trying to be set on a copy of a slice from a DataFrame.\n",
      "Try using .loc[row_indexer,col_indexer] = value instead\n",
      "\n",
      "See the caveats in the documentation: http://pandas.pydata.org/pandas-docs/stable/indexing.html#indexing-view-versus-copy\n",
      "  \"\"\"Entry point for launching an IPython kernel.\n"
     ]
    }
   ],
   "source": [
    "data_text['index'] = data_text.index"
   ]
  },
  {
   "cell_type": "code",
   "execution_count": 48,
   "metadata": {},
   "outputs": [],
   "source": [
    "documents = data_text"
   ]
  },
  {
   "cell_type": "code",
   "execution_count": 49,
   "metadata": {},
   "outputs": [
    {
     "name": "stdout",
     "output_type": "stream",
     "text": [
      "980\n"
     ]
    }
   ],
   "source": [
    "print(len(documents))"
   ]
  },
  {
   "cell_type": "code",
   "execution_count": 50,
   "metadata": {},
   "outputs": [
    {
     "name": "stderr",
     "output_type": "stream",
     "text": [
      "[nltk_data] Downloading package wordnet to\n",
      "[nltk_data]     /Users/abdulaziz/nltk_data...\n",
      "[nltk_data]   Package wordnet is already up-to-date!\n"
     ]
    }
   ],
   "source": [
    "import gensim\n",
    "from gensim.utils import simple_preprocess\n",
    "from gensim.parsing.preprocessing import STOPWORDS\n",
    "from nltk.stem import WordNetLemmatizer, SnowballStemmer\n",
    "from nltk.stem.porter import *\n",
    "import numpy as np\n",
    "np.random.seed(1234)\n",
    "import nltk\n",
    "nltk.download('wordnet')\n",
    "stemmer = SnowballStemmer(\"english\")\n"
   ]
  },
  {
   "cell_type": "code",
   "execution_count": 51,
   "metadata": {},
   "outputs": [],
   "source": [
    "def lemmatize_stemming(text):\n",
    "    return stemmer.stem(WordNetLemmatizer().lemmatize(text, pos='v'))\n",
    "\n",
    "def preprocess(text):\n",
    "    result = []\n",
    "    for token in gensim.utils.simple_preprocess(text):\n",
    "        \n",
    "        if token not in gensim.parsing.preprocessing.STOPWORDS and len(token) > 3:\n",
    "            result.append(lemmatize_stemming(token))\n",
    "    return result"
   ]
  },
  {
   "cell_type": "code",
   "execution_count": 52,
   "metadata": {},
   "outputs": [],
   "source": [
    "processed_docs = documents['collection'].map(preprocess)"
   ]
  },
  {
   "cell_type": "code",
   "execution_count": 53,
   "metadata": {},
   "outputs": [],
   "source": [
    "dictionary = gensim.corpora.Dictionary(processed_docs)"
   ]
  },
  {
   "cell_type": "code",
   "execution_count": 54,
   "metadata": {},
   "outputs": [],
   "source": [
    "dictionary.filter_extremes(no_below=15, no_above=0.5, keep_n=100000)"
   ]
  },
  {
   "cell_type": "code",
   "execution_count": 55,
   "metadata": {},
   "outputs": [],
   "source": [
    "bow_corpus = [dictionary.doc2bow(doc) for doc in processed_docs]"
   ]
  },
  {
   "cell_type": "code",
   "execution_count": 56,
   "metadata": {},
   "outputs": [],
   "source": [
    "from gensim import corpora, models\n",
    "tfidf = models.TfidfModel(bow_corpus)\n",
    "corpus_tfidf = tfidf[bow_corpus]"
   ]
  },
  {
   "cell_type": "code",
   "execution_count": 57,
   "metadata": {},
   "outputs": [],
   "source": [
    "lda_model = gensim.models.LdaMulticore(bow_corpus, num_topics=10, id2word=dictionary, passes=2, workers=2)"
   ]
  },
  {
   "cell_type": "code",
   "execution_count": 58,
   "metadata": {},
   "outputs": [
    {
     "name": "stdout",
     "output_type": "stream",
     "text": [
      "Topic: 0 \n",
      "Words: 0.004*\"export\" + 0.004*\"modul\" + 0.004*\"array\" + 0.003*\"throw\" + 0.003*\"check\" + 0.003*\"number\" + 0.003*\"const\" + 0.003*\"strict\" + 0.003*\"element\" + 0.003*\"start\"\n",
      "Topic: 1 \n",
      "Words: 0.011*\"licens\" + 0.005*\"includ\" + 0.004*\"copyright\" + 0.004*\"sourc\" + 0.004*\"import\" + 0.004*\"code\" + 0.004*\"copi\" + 0.004*\"public\" + 0.004*\"static\" + 0.004*\"void\"\n",
      "Topic: 2 \n",
      "Words: 0.006*\"licens\" + 0.006*\"export\" + 0.005*\"array\" + 0.004*\"import\" + 0.004*\"modul\" + 0.004*\"remov\" + 0.003*\"load\" + 0.003*\"match\" + 0.003*\"json\" + 0.003*\"path\"\n",
      "Topic: 3 \n",
      "Words: 0.016*\"licens\" + 0.013*\"sqlite\" + 0.007*\"import\" + 0.005*\"apach\" + 0.005*\"write\" + 0.004*\"softwar\" + 0.004*\"copyright\" + 0.004*\"applic\" + 0.004*\"languag\" + 0.004*\"copi\"\n",
      "Topic: 4 \n",
      "Words: 0.009*\"sqlite\" + 0.008*\"licens\" + 0.004*\"element\" + 0.004*\"copyright\" + 0.003*\"defin\" + 0.003*\"right\" + 0.003*\"remov\" + 0.003*\"modul\" + 0.003*\"jqueri\" + 0.003*\"select\"\n",
      "Topic: 5 \n",
      "Words: 0.006*\"copyright\" + 0.005*\"licens\" + 0.005*\"includ\" + 0.004*\"event\" + 0.004*\"author\" + 0.003*\"copi\" + 0.003*\"softwar\" + 0.003*\"document\" + 0.003*\"anim\" + 0.003*\"provid\"\n",
      "Topic: 6 \n",
      "Words: 0.006*\"licens\" + 0.005*\"import\" + 0.003*\"element\" + 0.003*\"extend\" + 0.003*\"match\" + 0.003*\"export\" + 0.003*\"array\" + 0.003*\"event\" + 0.003*\"modul\" + 0.003*\"style\"\n",
      "Topic: 7 \n",
      "Words: 0.005*\"licens\" + 0.004*\"start\" + 0.004*\"remov\" + 0.004*\"event\" + 0.004*\"check\" + 0.004*\"html\" + 0.004*\"array\" + 0.003*\"contain\" + 0.003*\"text\" + 0.003*\"support\"\n",
      "Topic: 8 \n",
      "Words: 0.011*\"licens\" + 0.006*\"export\" + 0.005*\"import\" + 0.004*\"remov\" + 0.004*\"modul\" + 0.004*\"event\" + 0.004*\"const\" + 0.003*\"path\" + 0.003*\"push\" + 0.003*\"start\"\n",
      "Topic: 9 \n",
      "Words: 0.007*\"author\" + 0.006*\"info\" + 0.006*\"import\" + 0.006*\"imag\" + 0.005*\"xcode\" + 0.005*\"packag\" + 0.005*\"scale\" + 0.004*\"util\" + 0.004*\"path\" + 0.004*\"filenam\"\n"
     ]
    }
   ],
   "source": [
    "for idx, topic in lda_model.print_topics(-1):\n",
    "    print('Topic: {} \\nWords: {}'.format(idx, topic))"
   ]
  },
  {
   "cell_type": "code",
   "execution_count": null,
   "metadata": {},
   "outputs": [],
   "source": []
  }
 ],
 "metadata": {
  "kernelspec": {
   "display_name": "Python 3",
   "language": "python",
   "name": "python3"
  },
  "language_info": {
   "codemirror_mode": {
    "name": "ipython",
    "version": 3
   },
   "file_extension": ".py",
   "mimetype": "text/x-python",
   "name": "python",
   "nbconvert_exporter": "python",
   "pygments_lexer": "ipython3",
   "version": "3.6.7"
  }
 },
 "nbformat": 4,
 "nbformat_minor": 2
}
